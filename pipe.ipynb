{
 "cells": [
  {
   "cell_type": "code",
   "execution_count": 3,
   "metadata": {},
   "outputs": [
    {
     "name": "stdout",
     "output_type": "stream",
     "text": [
      "{'test_0': 4943.802479576001, 'test_1': 6122.724239045018, 'test_2': 6274.78203524984, 'test_3': 1392, 'test_4': 5930.1665733777145, 'test_5': 6301.083145353688, 'test_6': 5349.0560593848795, 'test_7': 1128, 'test_8': 5317.426150752668, 'test_9': 4988.045022705996, 'test_10': 1128, 'test_11': 4267.506949723805, 'test_12': 960, 'test_13': 3992.045652499671, 'test_14': 6375.104572570105}\n"
     ]
    }
   ],
   "source": [
    "import numpy as np\n",
    "import pandas as pd\n",
    "\n",
    "def determine_lifetime(df, threshold=0.5):\n",
    "    \"\"\"\n",
    "    Determine the lifetime of LEDs based on their luminosity decay.\n",
    "    \n",
    "    Parameters:\n",
    "        df (pd.DataFrame): DataFrame with time and test columns representing luminosity.\n",
    "        threshold (float): The luminosity threshold at which the LED is considered dead.\n",
    "    \n",
    "    Returns:\n",
    "        tuple: A dictionary of lifetimes and a list indicating if the lifetime was prolonged (1 for prolonged, 0 otherwise).\n",
    "    \"\"\"\n",
    "    time_col = df['time']\n",
    "    lifetimes = {}\n",
    "    prolonged = []\n",
    "\n",
    "    for col in df.columns:\n",
    "        if col == 'time':\n",
    "            continue\n",
    "        \n",
    "        # Find the first time the luminosity drops below the threshold\n",
    "        luminosity = df[col]\n",
    "        below_threshold = luminosity < threshold\n",
    "        \n",
    "        if below_threshold.any():\n",
    "            # Get the time at which the threshold is crossed\n",
    "            death_index = below_threshold.idxmax()  # First occurrence of True\n",
    "            lifetimes[col] = time_col.iloc[death_index]\n",
    "            prolonged.append(0)  # Not prolonged\n",
    "        else:\n",
    "            # Approximate using exponential decay\n",
    "            # Fit an exponential function: luminosity = a * exp(-b * time)\n",
    "            log_luminosity = np.log(luminosity)\n",
    "            coeffs = np.polyfit(time_col, log_luminosity, 1)  # Fit log-linear model\n",
    "            b, log_a = -coeffs[0], coeffs[1]\n",
    "            a = np.exp(log_a)\n",
    "            \n",
    "            # Solve for time when luminosity = threshold\n",
    "            death_time = np.log(threshold / a) / -b\n",
    "            lifetimes[col] = death_time\n",
    "            prolonged.append(1)  # Prolonged\n",
    "    \n",
    "    return lifetimes, prolonged\n",
    "\n",
    "\n",
    "# Load the dataset\n",
    "df = pd.read_csv(\"S1.csv\")\n",
    "\n",
    "# Calculate lifetimes and prolongation status for the given DataFrame\n",
    "led_lifetimes, prolongation_status = determine_lifetime(df)\n",
    "\n",
    "# Display results\n",
    "print(\"Lifetimes:\", led_lifetimes)\n",
    "print(\"Prolongation Status:\", prolongation_status)\n"
   ]
  }
 ],
 "metadata": {
  "kernelspec": {
   "display_name": "Python 3",
   "language": "python",
   "name": "python3"
  },
  "language_info": {
   "codemirror_mode": {
    "name": "ipython",
    "version": 3
   },
   "file_extension": ".py",
   "mimetype": "text/x-python",
   "name": "python",
   "nbconvert_exporter": "python",
   "pygments_lexer": "ipython3",
   "version": "3.11.1"
  }
 },
 "nbformat": 4,
 "nbformat_minor": 2
}
